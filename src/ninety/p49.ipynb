{
  "cells": [
    {
      "cell_type": "markdown",
      "metadata": {
        "id": "view-in-github",
        "colab_type": "text"
      },
      "source": [
        "<a href=\"https://colab.research.google.com/github/banbiossa/algomethod/blob/main/src/ninety/p49.ipynb\" target=\"_parent\"><img src=\"https://colab.research.google.com/assets/colab-badge.svg\" alt=\"Open In Colab\"/></a>"
      ]
    },
    {
      "cell_type": "code",
      "execution_count": 1,
      "metadata": {
        "id": "QqeT5ToMDb_7",
        "outputId": "639019fb-df35-4c30-d40b-d5d3816cb60d",
        "colab": {
          "base_uri": "https://localhost:8080/"
        }
      },
      "outputs": [
        {
          "output_type": "execute_result",
          "data": {
            "text/plain": [
              "(2, 3, [1, 1, 10], [1, 2, 1], [1, 2, 2])"
            ]
          },
          "metadata": {},
          "execution_count": 1
        }
      ],
      "source": [
        "from dataclasses import dataclass\n",
        "\n",
        "\n",
        "@dataclass\n",
        "class ProblemAnswer:\n",
        "    problem: str\n",
        "    answer: int\n",
        "\n",
        "\n",
        "inputs = [\n",
        "    ProblemAnswer(\n",
        "        \"\"\"2 3\n",
        "1 1 1\n",
        "1 2 2\n",
        "10 1 2\n",
        "\"\"\",\n",
        "        2,\n",
        "    ),\n",
        "    ProblemAnswer(\n",
        "        \"\"\"2 3\n",
        "1 1 1\n",
        "10 2 2\n",
        "1 1 2\n",
        "\"\"\",\n",
        "        2,\n",
        "    ),\n",
        "    ProblemAnswer(\n",
        "        \"\"\"4 5\n",
        "3 1 2\n",
        "5 2 4\n",
        "9 3 4\n",
        "4 1 4\n",
        "8 2 4\n",
        "\"\"\",\n",
        "        -1,\n",
        "    ),\n",
        "    ProblemAnswer(\n",
        "        \"\"\"9 11\n",
        "10 2 7\n",
        "100 1 6\n",
        "1 2 8\n",
        "39 4 5\n",
        "62 3 4\n",
        "81 1 3\n",
        "55 8 8\n",
        "91 5 5\n",
        "14 8 9\n",
        "37 5 5\n",
        "41 7 9\n",
        "\"\"\",\n",
        "        385,\n",
        "    ),\n",
        "]\n",
        "\n",
        "# parse the problem answer to get N, M, C, L, R\n",
        "\n",
        "choice = 0\n",
        "pa = inputs[choice]\n",
        "\n",
        "lines = pa.problem.strip().split(\"\\n\")\n",
        "N, M = map(int, lines[0].split())\n",
        "C = [0] * M\n",
        "L = [0] * M\n",
        "R = [0] * M\n",
        "for i in range(M):\n",
        "    C[i], L[i], R[i] = map(int, lines[i + 1].split())\n",
        "N, M, C, L, R"
      ]
    },
    {
      "cell_type": "code",
      "execution_count": 2,
      "metadata": {
        "id": "z9CEsiFSDb_9"
      },
      "outputs": [],
      "source": [
        "# write the code like the above which will parse the actual\n",
        "# problem input to get N, M, C, L, R\n",
        "# N, M = map(int, input().split())\n",
        "# C = [0] * M\n",
        "# L = [0] * M\n",
        "# R = [0] * M\n",
        "# for i in range(M):\n",
        "#     C[i], L[i], R[i] = map(int, input().split())"
      ]
    },
    {
      "cell_type": "code",
      "execution_count": 3,
      "metadata": {
        "id": "QTjKGOEhDb_9"
      },
      "outputs": [],
      "source": [
        "# なんとなくだけど dp ぽい気はする\n",
        "# 組み合わせることで 奇偶偶　みたいな組み合わせを作れたら1は反転できる\n",
        "# 逆に 奇奇偶　見たいのしか作れないなら、反転できない（場合がある）\n",
        "\n",
        "# but thinking dp, i think the table will be something like\n",
        "# dp[i][j] = use up to the i-th element, and element j can be reversed on it's own\n",
        "# dp[i+1][j] = dp[i][j] +\n",
        "#   for if i has element j, and all dp[i]\n",
        "\n",
        "# dp[i][j][k] as using up to j out of i elements, we can reverse k\n",
        "# won't work well\n",
        "\n"
      ]
    },
    {
      "cell_type": "code",
      "source": [],
      "metadata": {
        "id": "Ae9z_5-sDic8"
      },
      "execution_count": null,
      "outputs": []
    }
  ],
  "metadata": {
    "kernelspec": {
      "display_name": "Python 3",
      "language": "python",
      "name": "python3"
    },
    "language_info": {
      "codemirror_mode": {
        "name": "ipython",
        "version": 3
      },
      "file_extension": ".py",
      "mimetype": "text/x-python",
      "name": "python",
      "nbconvert_exporter": "python",
      "pygments_lexer": "ipython3",
      "version": "3.12.7"
    },
    "colab": {
      "provenance": [],
      "include_colab_link": true
    }
  },
  "nbformat": 4,
  "nbformat_minor": 0
}