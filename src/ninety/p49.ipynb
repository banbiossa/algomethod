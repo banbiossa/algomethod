{
 "cells": [
  {
   "cell_type": "code",
   "execution_count": 23,
   "metadata": {},
   "outputs": [
    {
     "data": {
      "text/plain": [
       "(2, 3, [1, 1, 10], [1, 2, 1], [1, 2, 2])"
      ]
     },
     "execution_count": 23,
     "metadata": {},
     "output_type": "execute_result"
    }
   ],
   "source": [
    "from dataclasses import dataclass\n",
    "\n",
    "\n",
    "@dataclass\n",
    "class ProblemAnswer:\n",
    "    problem: str\n",
    "    answer: int\n",
    "\n",
    "\n",
    "inputs = [\n",
    "    ProblemAnswer(\n",
    "        \"\"\"2 3\n",
    "1 1 1\n",
    "1 2 2\n",
    "10 1 2\n",
    "\"\"\",\n",
    "        2,\n",
    "    ),\n",
    "    ProblemAnswer(\n",
    "        \"\"\"2 3\n",
    "1 1 1\n",
    "10 2 2\n",
    "1 1 2\n",
    "\"\"\",\n",
    "        2,\n",
    "    ),\n",
    "    ProblemAnswer(\n",
    "        \"\"\"4 5\n",
    "3 1 2\n",
    "5 2 4\n",
    "9 3 4\n",
    "4 1 4\n",
    "8 2 4\n",
    "\"\"\",\n",
    "        -1,\n",
    "    ),\n",
    "    ProblemAnswer(\n",
    "        \"\"\"9 11\n",
    "10 2 7\n",
    "100 1 6\n",
    "1 2 8\n",
    "39 4 5\n",
    "62 3 4\n",
    "81 1 3\n",
    "55 8 8\n",
    "91 5 5\n",
    "14 8 9\n",
    "37 5 5\n",
    "41 7 9\n",
    "\"\"\",\n",
    "        385,\n",
    "    ),\n",
    "]\n",
    "\n",
    "# parse the problem answer to get N, M, C, L, R\n",
    "\n",
    "choice = 0\n",
    "pa = inputs[choice]\n",
    "\n",
    "lines = pa.problem.strip().split(\"\\n\")\n",
    "N, M = map(int, lines[0].split())\n",
    "C = [0] * M\n",
    "L = [0] * M\n",
    "R = [0] * M\n",
    "for i in range(M):\n",
    "    C[i], L[i], R[i] = map(int, lines[i + 1].split())\n",
    "N, M, C, L, R"
   ]
  },
  {
   "cell_type": "code",
   "execution_count": null,
   "metadata": {},
   "outputs": [],
   "source": [
    "# write the code like the above which will parse the actual\n",
    "# problem input to get N, M, C, L, R\n",
    "# N, M = map(int, input().split())\n",
    "# C = [0] * M\n",
    "# L = [0] * M\n",
    "# R = [0] * M\n",
    "# for i in range(M):\n",
    "#     C[i], L[i], R[i] = map(int, input().split())"
   ]
  },
  {
   "cell_type": "code",
   "execution_count": null,
   "metadata": {},
   "outputs": [],
   "source": []
  }
 ],
 "metadata": {
  "kernelspec": {
   "display_name": "Python 3",
   "language": "python",
   "name": "python3"
  },
  "language_info": {
   "codemirror_mode": {
    "name": "ipython",
    "version": 3
   },
   "file_extension": ".py",
   "mimetype": "text/x-python",
   "name": "python",
   "nbconvert_exporter": "python",
   "pygments_lexer": "ipython3",
   "version": "3.12.7"
  }
 },
 "nbformat": 4,
 "nbformat_minor": 2
}
