{
  "cells": [
    {
      "cell_type": "code",
      "execution_count": 13,
      "metadata": {
        "colab": {
          "base_uri": "https://localhost:8080/"
        },
        "id": "QqeT5ToMDb_7",
        "outputId": "ca0c64d3-b045-4e72-cf9c-9213e2f5c7e8"
      },
      "outputs": [
        {
          "output_type": "execute_result",
          "data": {
            "text/plain": [
              "(2, 3, [1, 1, 10], [1, 2, 1], [1, 2, 2], 2)"
            ]
          },
          "metadata": {},
          "execution_count": 13
        }
      ],
      "source": [
        "from dataclasses import dataclass\n",
        "\n",
        "\n",
        "@dataclass\n",
        "class ProblemAnswer:\n",
        "    problem: str\n",
        "    answer: int\n",
        "\n",
        "\n",
        "inputs = [\n",
        "    ProblemAnswer(\n",
        "        \"\"\"2 3\n",
        "1 1 1\n",
        "1 2 2\n",
        "10 1 2\n",
        "\"\"\",\n",
        "        2,\n",
        "    ),\n",
        "    ProblemAnswer(\n",
        "        \"\"\"2 3\n",
        "1 1 1\n",
        "10 2 2\n",
        "1 1 2\n",
        "\"\"\",\n",
        "        2,\n",
        "    ),\n",
        "    ProblemAnswer(\n",
        "        \"\"\"4 5\n",
        "3 1 2\n",
        "5 2 4\n",
        "9 3 4\n",
        "4 1 4\n",
        "8 2 4\n",
        "\"\"\",\n",
        "        -1,\n",
        "    ),\n",
        "    ProblemAnswer(\n",
        "        \"\"\"9 11\n",
        "10 2 7\n",
        "100 1 6\n",
        "1 2 8\n",
        "39 4 5\n",
        "62 3 4\n",
        "81 1 3\n",
        "55 8 8\n",
        "91 5 5\n",
        "14 8 9\n",
        "37 5 5\n",
        "41 7 9\n",
        "\"\"\",\n",
        "        385,\n",
        "    ),\n",
        "]\n",
        "\n",
        "# parse the problem answer to get N, M, C, L, R\n",
        "\n",
        "def get_problem(choice):\n",
        "  pa = inputs[choice]\n",
        "\n",
        "  lines = pa.problem.strip().split(\"\\n\")\n",
        "  N, M = map(int, lines[0].split())\n",
        "  C = [0] * M\n",
        "  L = [0] * M\n",
        "  R = [0] * M\n",
        "  for i in range(M):\n",
        "      C[i], L[i], R[i] = map(int, lines[i + 1].split())\n",
        "  return N, M, C, L, R, pa.answer\n",
        "N, M, C, L, R, answer = get_problem(0)\n",
        "N, M, C, L, R, answer"
      ]
    },
    {
      "cell_type": "code",
      "execution_count": 5,
      "metadata": {
        "id": "z9CEsiFSDb_9"
      },
      "outputs": [],
      "source": [
        "# write the code like the above which will parse the actual\n",
        "# problem input to get N, M, C, L, R\n",
        "N, M = map(int, input().split())\n",
        "C = [0] * M\n",
        "L = [0] * M\n",
        "R = [0] * M\n",
        "for i in range(M):\n",
        "    C[i], L[i], R[i] = map(int, input().split())"
      ]
    },
    {
      "cell_type": "code",
      "source": [
        "N, M = map(int, input().split())\n",
        "edges = []\n",
        "for i in range(M):\n",
        "  c, l, r = map(int, input().split())\n",
        "  edges.append((c, l-1, r)\n",
        "edges.sort(key=lambda x: x[0])"
      ],
      "metadata": {
        "id": "G6ghQ_INaqjI"
      },
      "execution_count": null,
      "outputs": []
    },
    {
      "cell_type": "code",
      "execution_count": 6,
      "metadata": {
        "id": "QTjKGOEhDb_9"
      },
      "outputs": [],
      "source": [
        "# なんとなくだけど dp ぽい気はする\n",
        "# 組み合わせることで 奇偶偶　みたいな組み合わせを作れたら1は反転できる\n",
        "# 逆に 奇奇偶　見たいのしか作れないなら、反転できない（場合がある）\n",
        "\n",
        "# but thinking dp, i think the table will be something like\n",
        "# dp[i][j] = use up to the i-th element, and element j can be reversed on it's own\n",
        "# dp[i+1][j] = dp[i][j] +\n",
        "#   for if i has element j, and all dp[i]\n",
        "\n",
        "# dp[i][j][k] as using up to j out of i elements, we can reverse k\n",
        "# won't work well\n",
        "\n"
      ]
    },
    {
      "cell_type": "code",
      "source": [
        "# we need a union find tree\n",
        "class UnionFind:\n",
        "  def __init__(self, n):\n",
        "    self.n = n\n",
        "    self.parents = [i for i in range(n)]\n",
        "\n",
        "  def make_tree(self, x):\n",
        "    self.parents[x] = x\n",
        "\n",
        "  def find_root(self, x):\n",
        "    if self.parents[x] != x:\n",
        "      self.parents[x] = self.find_root(self.parents[x])\n",
        "    return self.parents[x]\n",
        "\n",
        "  def union(self, x, y):\n",
        "    x = self.find_root(x)\n",
        "    y = self.find_root(y)\n",
        "    if x != y:\n",
        "      self.parents[x] = y\n",
        "\n",
        "  def is_same(self, x, y):\n",
        "    return self.find_root(x) == self.find_root(y)"
      ],
      "metadata": {
        "id": "Ae9z_5-sDic8"
      },
      "execution_count": 7,
      "outputs": []
    },
    {
      "cell_type": "code",
      "source": [
        "N, M, C, L, R"
      ],
      "metadata": {
        "id": "PUIP11kWnzsH",
        "colab": {
          "base_uri": "https://localhost:8080/"
        },
        "outputId": "05ef2a61-4101-409b-d2a9-8c395e3b1c88"
      },
      "execution_count": 8,
      "outputs": [
        {
          "output_type": "execute_result",
          "data": {
            "text/plain": [
              "(2, 3, [1, 1, 10], [1, 2, 1], [1, 2, 2])"
            ]
          },
          "metadata": {},
          "execution_count": 8
        }
      ]
    },
    {
      "cell_type": "code",
      "source": [
        "edges = []\n",
        "for i in range(M):\n",
        "  edges.append((C[i], L[i]-1, R[i]))\n",
        "edges.sort(key=lambda x: x[0])\n",
        "edges"
      ],
      "metadata": {
        "colab": {
          "base_uri": "https://localhost:8080/"
        },
        "id": "NNgFiWtRUWSI",
        "outputId": "0d56905c-c4cf-4eb7-9b64-6ec159a1ea46"
      },
      "execution_count": 9,
      "outputs": [
        {
          "output_type": "execute_result",
          "data": {
            "text/plain": [
              "[(1, 0, 1), (1, 1, 2), (10, 0, 2)]"
            ]
          },
          "metadata": {},
          "execution_count": 9
        }
      ]
    },
    {
      "cell_type": "code",
      "source": [
        "cost = 0\n",
        "tree = UnionFind(N+1)\n",
        "for c, l, r in edges:\n",
        "  if not tree.is_same(l, r):\n",
        "    tree.union(l, r)\n",
        "    cost += c\n",
        "\n",
        "# check if spanning\n",
        "for i in range(N):\n",
        "  if not tree.is_same(0, i):\n",
        "    cost = -1\n",
        "    break\n",
        "cost"
      ],
      "metadata": {
        "colab": {
          "base_uri": "https://localhost:8080/"
        },
        "id": "TcWDUr6iUfB0",
        "outputId": "19c30178-c501-4935-e495-8891ebc118e7"
      },
      "execution_count": 10,
      "outputs": [
        {
          "output_type": "execute_result",
          "data": {
            "text/plain": [
              "2"
            ]
          },
          "metadata": {},
          "execution_count": 10
        }
      ]
    },
    {
      "cell_type": "code",
      "source": [
        "def solve(N, M, C, L, R):\n",
        "  edges = []\n",
        "  for i in range(M):\n",
        "    edges.append((C[i], L[i]-1, R[i]))\n",
        "  edges.sort(key=lambda x: x[0])\n",
        "  cost = 0\n",
        "  tree = UnionFind(N+1)\n",
        "  for c, l, r in edges:\n",
        "    if not tree.is_same(l, r):\n",
        "      tree.union(l, r)\n",
        "      cost += c\n",
        "\n",
        "  # check if spanning\n",
        "  for i in range(N):\n",
        "    if not tree.is_same(0, i):\n",
        "      cost = -1\n",
        "      break\n",
        "  return cost"
      ],
      "metadata": {
        "id": "Q1uLKP8AVK90"
      },
      "execution_count": 14,
      "outputs": []
    },
    {
      "cell_type": "code",
      "source": [
        "for q in range(4):\n",
        "  N, M, C, L, R, answer = get_problem(q)\n",
        "  actual = solve(N, M, C, L, R)\n",
        "  assert actual == answer, f\"actual: {actual}, answer: {answer}\"\n",
        "  if actual == answer:\n",
        "    print(f\"q{q} ok\")"
      ],
      "metadata": {
        "colab": {
          "base_uri": "https://localhost:8080/"
        },
        "id": "TZvJIU68VU_M",
        "outputId": "0186c933-25b7-4a0e-ce50-35c0290cf775"
      },
      "execution_count": 16,
      "outputs": [
        {
          "output_type": "stream",
          "name": "stdout",
          "text": [
            "q0 ok\n",
            "q1 ok\n",
            "q2 ok\n",
            "q3 ok\n"
          ]
        }
      ]
    },
    {
      "cell_type": "code",
      "source": [],
      "metadata": {
        "id": "qjHvPuTAWF_x"
      },
      "execution_count": null,
      "outputs": []
    }
  ],
  "metadata": {
    "kernelspec": {
      "display_name": "Python 3",
      "language": "python",
      "name": "python3"
    },
    "language_info": {
      "codemirror_mode": {
        "name": "ipython",
        "version": 3
      },
      "file_extension": ".py",
      "mimetype": "text/x-python",
      "name": "python",
      "nbconvert_exporter": "python",
      "pygments_lexer": "ipython3",
      "version": "3.12.7"
    },
    "colab": {
      "provenance": []
    }
  },
  "nbformat": 4,
  "nbformat_minor": 0
}